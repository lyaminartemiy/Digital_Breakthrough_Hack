{
 "cells": [
  {
   "cell_type": "code",
   "execution_count": 1,
   "id": "a2667dd8-8343-44ca-b223-eba359c82284",
   "metadata": {},
   "outputs": [],
   "source": [
    "import warnings\n",
    "warnings.filterwarnings(\"ignore\")\n",
    "\n",
    "import numpy as np\n",
    "import pandas as pd\n",
    "\n",
    "from sklearn.model_selection import train_test_split\n",
    "from sklearn.metrics import f1_score, roc_auc_score, recall_score, accuracy_score\n",
    "from sklearn. linear_model import LogisticRegression\n",
    "\n",
    "from imblearn.over_sampling import RandomOverSampler\n",
    "\n",
    "from catboost import CatBoostClassifier, Pool\n",
    "\n",
    "%matplotlib inline\n",
    "import seaborn as sns\n",
    "from matplotlib import pyplot as plt"
   ]
  },
  {
   "cell_type": "markdown",
   "id": "872a920e-d762-470e-87f9-28b14817cded",
   "metadata": {},
   "source": [
    "### Загрузка обработанных датасетов"
   ]
  },
  {
   "cell_type": "code",
   "execution_count": 3,
   "id": "d70ea533-8155-4498-9db3-09f92e6686f1",
   "metadata": {},
   "outputs": [],
   "source": [
    "data_train_preprocessed = pd.read_csv('content/data_train_preprocessed.csv')\n",
    "data_test_preprocessed = pd.read_csv('content/data_test_preprocessed.csv')"
   ]
  },
  {
   "cell_type": "code",
   "execution_count": 4,
   "id": "8bf706a4-04a6-4599-8fb1-549814c4f959",
   "metadata": {},
   "outputs": [],
   "source": [
    "id_test = data_test_preprocessed['id']\n",
    "data_test_preprocessed = data_test_preprocessed.drop(['id', 'Unnamed: 0'], axis=1)\n",
    "data_train_preprocessed = data_train_preprocessed.drop(['Unnamed: 0'], axis=1)"
   ]
  },
  {
   "cell_type": "code",
   "execution_count": 5,
   "id": "aa5bf251-8971-476d-82f5-8476f96f6306",
   "metadata": {},
   "outputs": [
    {
     "data": {
      "text/plain": [
       "((6000000, 26), (4000000, 25))"
      ]
     },
     "execution_count": 5,
     "metadata": {},
     "output_type": "execute_result"
    }
   ],
   "source": [
    "data_train_preprocessed.shape, data_test_preprocessed.shape"
   ]
  },
  {
   "cell_type": "markdown",
   "id": "ca833b6f-8978-438b-8da5-d4cdc2587dc6",
   "metadata": {
    "tags": []
   },
   "source": [
    "### Подготовка данных для обучения модели"
   ]
  },
  {
   "cell_type": "code",
   "execution_count": 6,
   "id": "a1aa8eb3-c045-4c61-be75-392f776f885e",
   "metadata": {},
   "outputs": [
    {
     "data": {
      "text/plain": [
       "0    5829020\n",
       "1     170980\n",
       "Name: label, dtype: int64"
      ]
     },
     "execution_count": 6,
     "metadata": {},
     "output_type": "execute_result"
    }
   ],
   "source": [
    "data_train_preprocessed['label'].value_counts()"
   ]
  },
  {
   "cell_type": "code",
   "execution_count": 7,
   "id": "eed76c3d-dddf-4799-85cd-43e1033edc7e",
   "metadata": {},
   "outputs": [],
   "source": [
    "X_1 = data_train_preprocessed.drop(['label'], axis=1)\n",
    "y_1 = data_train_preprocessed['label']"
   ]
  },
  {
   "cell_type": "markdown",
   "id": "5a9754aa-b6fe-421a-a15a-4ba7dcb4a6f0",
   "metadata": {},
   "source": [
    "##### *Разделим массивы на случайные обучающие и тестовые подмножества*"
   ]
  },
  {
   "cell_type": "code",
   "execution_count": 8,
   "id": "7b29bf26-fd57-45b6-8cc2-e36ce1cdf1ab",
   "metadata": {},
   "outputs": [],
   "source": [
    "X_train_1, X_holdout_1, y_train_1, y_holdout_1 = train_test_split(X_1, y_1, test_size=0.3, random_state=17)"
   ]
  },
  {
   "cell_type": "markdown",
   "id": "b02adbde-33f2-4269-bc04-2b7c508bee93",
   "metadata": {},
   "source": [
    "##### *Сбалансируем распределение классов*"
   ]
  },
  {
   "cell_type": "code",
   "execution_count": 9,
   "id": "b2040ea8-c8e1-4215-8772-04d9318be2f1",
   "metadata": {},
   "outputs": [],
   "source": [
    "ros = RandomOverSampler(random_state=42)\n",
    "X_resampled_1, y_resampled_1 = ros.fit_resample(X_train_1, y_train_1)"
   ]
  },
  {
   "cell_type": "code",
   "execution_count": 10,
   "id": "91873ee2-e929-4f9c-afb3-07764f3f43b9",
   "metadata": {},
   "outputs": [
    {
     "data": {
      "text/plain": [
       "(8160932, 25)"
      ]
     },
     "execution_count": 10,
     "metadata": {},
     "output_type": "execute_result"
    }
   ],
   "source": [
    "X_resampled_1.shape"
   ]
  },
  {
   "cell_type": "markdown",
   "id": "828fffbf-4f25-4d0c-9c63-3f80f6cee05c",
   "metadata": {
    "tags": []
   },
   "source": [
    "# Обучаемся на CatBoost / Модель №1"
   ]
  },
  {
   "cell_type": "code",
   "execution_count": 11,
   "id": "45a1f3ce-bd2a-41d4-bf8b-3d036235e4ab",
   "metadata": {},
   "outputs": [],
   "source": [
    "cat_features = ['index_oper',\n",
    "                'type',\n",
    "                'priority',\n",
    "                'is_privatecategory',\n",
    "                'class',\n",
    "                'is_in_yandex',\n",
    "                'is_return',\n",
    "                'mailtype',\n",
    "                'mailctg',\n",
    "                'directctg',\n",
    "                'postmark',\n",
    "                'oper_type',\n",
    "                'oper_attr']\n",
    "\n",
    "text_features = ['name_mfi']"
   ]
  },
  {
   "cell_type": "code",
   "execution_count": 12,
   "id": "8b41350d-d81b-497d-8759-46e75cde4f94",
   "metadata": {},
   "outputs": [],
   "source": [
    "train_dataset = Pool(data=X_resampled_1,\n",
    "                     label=y_resampled_1,\n",
    "                     cat_features=cat_features,\n",
    "                     text_features=text_features)\n",
    "\n",
    "eval_dataset = Pool(data=X_holdout_1,\n",
    "                     label=y_holdout_1,\n",
    "                     cat_features=cat_features,\n",
    "                     text_features=text_features)"
   ]
  },
  {
   "cell_type": "code",
   "execution_count": 13,
   "id": "dc8ee75a-20f7-47f5-a4a4-f4a88fb91461",
   "metadata": {},
   "outputs": [
    {
     "name": "stdout",
     "output_type": "stream",
     "text": [
      "0:\tlearn: 0.2802487\ttest: 0.2260985\tbest: 0.2260985 (0)\ttotal: 17.3s\tremaining: 1h 26m 24s\n",
      "50:\tlearn: 0.0722478\ttest: 0.1071197\tbest: 0.1071197 (50)\ttotal: 16m 21s\tremaining: 1h 19m 52s\n",
      "100:\tlearn: 0.0690481\ttest: 0.1042050\tbest: 0.1042033 (95)\ttotal: 29m 55s\tremaining: 58m 58s\n",
      "150:\tlearn: 0.0668737\ttest: 0.1041729\tbest: 0.1040256 (144)\ttotal: 43m 37s\tremaining: 43m 2s\n",
      "200:\tlearn: 0.0659865\ttest: 0.1040187\tbest: 0.1035579 (185)\ttotal: 54m 12s\tremaining: 26m 41s\n",
      "250:\tlearn: 0.0649676\ttest: 0.1047910\tbest: 0.1035579 (185)\ttotal: 1h 5m 50s\tremaining: 12m 51s\n",
      "299:\tlearn: 0.0642826\ttest: 0.1043925\tbest: 0.1035579 (185)\ttotal: 1h 15m 52s\tremaining: 0us\n",
      "\n",
      "bestTest = 0.1035578909\n",
      "bestIteration = 185\n",
      "\n",
      "Shrink model to first 186 iterations.\n"
     ]
    },
    {
     "data": {
      "text/plain": [
       "<catboost.core.CatBoostClassifier at 0x257c1211a30>"
      ]
     },
     "execution_count": 13,
     "metadata": {},
     "output_type": "execute_result"
    }
   ],
   "source": [
    "model_1 = CatBoostClassifier(\n",
    "    random_seed=63,\n",
    "    iterations=300,\n",
    "    task_type=\"CPU\",\n",
    "    learning_rate=0.3\n",
    ")\n",
    "\n",
    "model_1.fit(\n",
    "    train_dataset,\n",
    "    verbose=50,\n",
    "    eval_set=eval_dataset,\n",
    ")"
   ]
  },
  {
   "cell_type": "code",
   "execution_count": 15,
   "id": "8917a700-8a54-406c-8d87-37927eafb05b",
   "metadata": {},
   "outputs": [],
   "source": [
    "model_1.save_model(\"content/CatBoost_1\")"
   ]
  },
  {
   "cell_type": "markdown",
   "id": "5e287e95-365c-40d2-93ba-acb6f8c4d23d",
   "metadata": {
    "tags": []
   },
   "source": [
    "### Предсказывание значений на тестовой выборке"
   ]
  },
  {
   "cell_type": "code",
   "execution_count": 17,
   "id": "97a06341-c35a-4834-8d06-3faab354fae3",
   "metadata": {},
   "outputs": [],
   "source": [
    "test_pool_1 = Pool(data_test_preprocessed,\n",
    "                   cat_features=cat_features,\n",
    "                   text_features=text_features)"
   ]
  },
  {
   "cell_type": "code",
   "execution_count": 18,
   "id": "035e3824-f7df-4d16-b7fc-28e9d537713d",
   "metadata": {},
   "outputs": [],
   "source": [
    "predictions_1 = model_1.predict(test_pool_1)\n",
    "    \n",
    "sub_test_pred_model_1 = pd.DataFrame({'label': predictions_1})\n",
    "sub_test_pred_model_1.index = id_test"
   ]
  },
  {
   "cell_type": "code",
   "execution_count": 19,
   "id": "6887b241-15c7-49ee-8ad9-a94704c4d1b1",
   "metadata": {},
   "outputs": [
    {
     "data": {
      "text/plain": [
       "0    3765693\n",
       "1     234307\n",
       "Name: label, dtype: int64"
      ]
     },
     "execution_count": 19,
     "metadata": {},
     "output_type": "execute_result"
    }
   ],
   "source": [
    "sub_test_pred_model_1['label'].value_counts()"
   ]
  },
  {
   "cell_type": "code",
   "execution_count": 20,
   "id": "dda4404d-c3bb-4ebb-87b1-9bdfc512ec61",
   "metadata": {},
   "outputs": [],
   "source": [
    "predictions_2 = model_1.predict_proba(test_pool_1)\n",
    "\n",
    "pred = []\n",
    "for i in range(0, len(predictions_2)):\n",
    "    pred.append(predictions_2[i][1])\n",
    "    \n",
    "test_pred_model_1 = pd.DataFrame({'label': pred})\n",
    "test_pred_model_1.index = id_test"
   ]
  },
  {
   "cell_type": "markdown",
   "id": "be0099af-775a-4781-a439-5289c0803510",
   "metadata": {},
   "source": [
    "### Подсчёт метрик для Модели №1"
   ]
  },
  {
   "cell_type": "code",
   "execution_count": 22,
   "id": "44858414-1111-40d3-9399-161d6b59c336",
   "metadata": {},
   "outputs": [],
   "source": [
    "holdout_pool_1 = Pool(X_holdout_1,\n",
    "                      cat_features=cat_features,\n",
    "                      text_features=text_features)\n",
    "\n",
    "y_pred_hold_1 = model_1.predict(holdout_pool_1)"
   ]
  },
  {
   "cell_type": "code",
   "execution_count": 23,
   "id": "87537aaf-3667-44b4-ba98-13e5c1e22766",
   "metadata": {},
   "outputs": [
    {
     "name": "stdout",
     "output_type": "stream",
     "text": [
      "F1:  57.3963538486461\n",
      "Accuracy:  96.20122222222223\n",
      "Recall:  92.96412528015206\n",
      "ROC_AUC:  92.96412528015206\n",
      "Score:  0.9296412528015205\n"
     ]
    }
   ],
   "source": [
    "print(\"F1: \", f1_score(y_holdout_1, y_pred_hold_1) * 100)\n",
    "print(\"Accuracy: \", accuracy_score(y_holdout_1, y_pred_hold_1) * 100)\n",
    "\n",
    "score_recall_1 = recall_score(y_holdout_1, y_pred_hold_1, average = \"macro\" )\n",
    "score_auc_1 = roc_auc_score(y_holdout_1, y_pred_hold_1, multi_class='ovo')\n",
    "\n",
    "print(\"Recall: \", score_recall_1 * 100)\n",
    "print(\"ROC_AUC: \", score_auc_1 * 100)\n",
    "print(\"Score: \", 0.1 * score_recall_1 + 0.9 * score_auc_1)"
   ]
  },
  {
   "cell_type": "markdown",
   "id": "ae3b2c73-fea4-4c1e-a145-04105a66d639",
   "metadata": {
    "tags": []
   },
   "source": [
    "### Столбец значений для второго уровня обучения"
   ]
  },
  {
   "cell_type": "code",
   "execution_count": 25,
   "id": "25455c89-3bfa-457e-9873-ffe13f94ed17",
   "metadata": {},
   "outputs": [],
   "source": [
    "predictions_proba_1 = model_1.predict_proba(Pool(X_resampled_1,\n",
    "                                                 cat_features=cat_features,\n",
    "                                                 text_features=text_features))"
   ]
  },
  {
   "cell_type": "code",
   "execution_count": 26,
   "id": "c14cf364-010e-4be9-aa54-958a57b2315f",
   "metadata": {},
   "outputs": [],
   "source": [
    "pred_1 = []\n",
    "\n",
    "for i in range(0, len(predictions_proba_1)):\n",
    "    pred_1.append(predictions_proba_1[i][1])"
   ]
  },
  {
   "cell_type": "code",
   "execution_count": 27,
   "id": "e47e505a-8a88-455a-8707-91a11566be66",
   "metadata": {},
   "outputs": [],
   "source": [
    "stack_model_1 = pd.DataFrame({'label': pred_1})"
   ]
  },
  {
   "cell_type": "markdown",
   "id": "782eb08e-c356-4527-969b-60f079fe5c2f",
   "metadata": {},
   "source": [
    "### Загрузка исходных выборок"
   ]
  },
  {
   "cell_type": "code",
   "execution_count": 28,
   "id": "f74964a4-4247-417a-ae13-67763a8b43a8",
   "metadata": {},
   "outputs": [],
   "source": [
    "data_train = pd.read_csv('content/train_dataset_train.csv')\n",
    "data_test = pd.read_csv('content/test_dataset_test.csv')"
   ]
  },
  {
   "cell_type": "code",
   "execution_count": 29,
   "id": "7b72f34b-5351-4c76-aa06-4cd8e6449523",
   "metadata": {},
   "outputs": [],
   "source": [
    "col_obj = data_train.select_dtypes(include=['object']).columns.values\n",
    "col_obj = list(set(col_obj) ^ set([\"id\", \"label\"]))"
   ]
  },
  {
   "cell_type": "code",
   "execution_count": 30,
   "id": "643b4fe7-1764-474d-ae83-c25dd688689c",
   "metadata": {},
   "outputs": [],
   "source": [
    "X_2 = data_train.drop(col_obj, axis = 1)\n",
    "y_2 = data_train[[\"label\"]]"
   ]
  },
  {
   "cell_type": "code",
   "execution_count": 31,
   "id": "f64902b2-b58d-4364-ae9a-9527e502908a",
   "metadata": {},
   "outputs": [],
   "source": [
    "data_test = data_test.drop(['id',\n",
    "                             'is_privatecategory',\n",
    "                             'is_in_yandex',\n",
    "                             'oper_type + oper_attr',\n",
    "                             'name_mfi',\n",
    "                             'index_oper',\n",
    "                             'type',\n",
    "                             'is_return'], axis=1)"
   ]
  },
  {
   "cell_type": "code",
   "execution_count": 32,
   "id": "b7099bd4-6447-4541-b99f-1977cd824a4a",
   "metadata": {},
   "outputs": [],
   "source": [
    "X_train_2, X_holdout_2, y_train_2, y_holdout_2 = train_test_split(X_2, y_2, test_size=0.3, random_state=17)"
   ]
  },
  {
   "cell_type": "markdown",
   "id": "629c05f9-2285-4a87-9d4b-9bbf4d1433bf",
   "metadata": {},
   "source": [
    "##### *Сбалансируем распределение классов*"
   ]
  },
  {
   "cell_type": "code",
   "execution_count": 33,
   "id": "c0b8c854-a694-4c39-bcdf-025cdacc6c08",
   "metadata": {},
   "outputs": [],
   "source": [
    "X_resampled_2, y_resampled_2 = ros.fit_resample(X_train_2, y_train_2)"
   ]
  },
  {
   "cell_type": "markdown",
   "id": "6ec9d737-fa1d-46c9-8a36-48cda2cdf8ae",
   "metadata": {},
   "source": [
    "# Обучаемся на CatBoost / Модель №2"
   ]
  },
  {
   "cell_type": "code",
   "execution_count": 35,
   "id": "052744c0-653a-4745-8023-acbdc1f0109d",
   "metadata": {},
   "outputs": [],
   "source": [
    "train_dataset_2 = Pool(data=X_resampled_2,\n",
    "                     label=y_resampled_2)\n",
    "\n",
    "eval_dataset_2 = Pool(data=X_holdout_2,\n",
    "                     label=y_holdout_2)"
   ]
  },
  {
   "cell_type": "code",
   "execution_count": 36,
   "id": "71c228b6-ac0a-4b3e-886d-defcabb1140a",
   "metadata": {},
   "outputs": [
    {
     "data": {
      "application/vnd.jupyter.widget-view+json": {
       "model_id": "78669e39dd5d4b399498ac2e581ff4da",
       "version_major": 2,
       "version_minor": 0
      },
      "text/plain": [
       "MetricVisualizer(layout=Layout(align_self='stretch', height='500px'))"
      ]
     },
     "metadata": {},
     "output_type": "display_data"
    },
    {
     "data": {
      "text/plain": [
       "<catboost.core.CatBoostClassifier at 0x259b7a0ecd0>"
      ]
     },
     "execution_count": 36,
     "metadata": {},
     "output_type": "execute_result"
    }
   ],
   "source": [
    "from catboost import CatBoostClassifier\n",
    "\n",
    "model_2 = CatBoostClassifier(\n",
    "    learning_rate=0.5,\n",
    "    loss_function='MultiClassOneVsAll',\n",
    "    iterations=100, \n",
    "    random_seed=63,\n",
    ")\n",
    "\n",
    "model_2.fit(\n",
    "    train_dataset_2,\n",
    "    verbose=False,\n",
    "    eval_set=eval_dataset_2,\n",
    "    plot=True\n",
    ")"
   ]
  },
  {
   "cell_type": "code",
   "execution_count": 44,
   "id": "65feec1f-f3d2-46c7-9606-e625e631fb2b",
   "metadata": {},
   "outputs": [],
   "source": [
    "model_2.save_model(\"content/CatBoost_2\")"
   ]
  },
  {
   "cell_type": "markdown",
   "id": "11b143f2-5622-4637-b545-4213d51109e7",
   "metadata": {},
   "source": [
    "### Предсказывание значений на тестовой выборке"
   ]
  },
  {
   "cell_type": "code",
   "execution_count": 38,
   "id": "68f3defd-a13b-4bc3-b42f-2cf3df762630",
   "metadata": {},
   "outputs": [],
   "source": [
    "test_pool_2 = Pool(data_test)"
   ]
  },
  {
   "cell_type": "code",
   "execution_count": 41,
   "id": "62939d35-c8c8-4458-aee3-a42c013b6c79",
   "metadata": {},
   "outputs": [],
   "source": [
    "predictions_3 = model_2.predict(test_pool_2)\n",
    "\n",
    "pred_2 = []\n",
    "\n",
    "for i in range(0, len(predictions_3)):\n",
    "    pred_2.append(predictions_3[i])\n",
    "    \n",
    "sub_test_pred_model_2 = pd.DataFrame({'label': pred_2})\n",
    "sub_test_pred_model_2.index = id_test"
   ]
  },
  {
   "cell_type": "code",
   "execution_count": 42,
   "id": "59acbfb0-35a1-42f5-9a69-4e75c54eb0c0",
   "metadata": {},
   "outputs": [
    {
     "data": {
      "text/plain": [
       "[0]    3220995\n",
       "[1]     779005\n",
       "Name: label, dtype: int64"
      ]
     },
     "execution_count": 42,
     "metadata": {},
     "output_type": "execute_result"
    }
   ],
   "source": [
    "sub_test_pred_model_2['label'].value_counts()"
   ]
  },
  {
   "cell_type": "code",
   "execution_count": 43,
   "id": "22ded69b-2308-4a30-ac0c-1785f4ab7cf8",
   "metadata": {},
   "outputs": [],
   "source": [
    "predictions_2 = model_2.predict_proba(test_pool_2)\n",
    "\n",
    "pred = []\n",
    "for i in range(0, len(predictions_2)):\n",
    "    pred.append(predictions_2[i][1])\n",
    "    \n",
    "test_pred_model_2 = pd.DataFrame({'label': pred})\n",
    "test_pred_model_2.index = id_test"
   ]
  },
  {
   "cell_type": "markdown",
   "id": "078a39ca-3a1d-49c9-ba61-1fdfefa34b73",
   "metadata": {},
   "source": [
    "### Подсчёт метрик для Модели №2"
   ]
  },
  {
   "cell_type": "code",
   "execution_count": 46,
   "id": "63d84bbd-028d-4dac-9289-8d6a3a2eb091",
   "metadata": {},
   "outputs": [],
   "source": [
    "holdout_pool_2 = Pool(X_holdout_2)\n",
    "\n",
    "y_pred_hold_2 = model_2.predict(holdout_pool_2)"
   ]
  },
  {
   "cell_type": "code",
   "execution_count": 47,
   "id": "c2b8f75c-fe62-4f6d-be6c-2a09248248aa",
   "metadata": {},
   "outputs": [
    {
     "name": "stdout",
     "output_type": "stream",
     "text": [
      "F1:  24.01857680584354\n",
      "Accuracy:  83.02144444444444\n",
      "Recall:  88.29710878205105\n",
      "ROC_AUC:  88.29710878205107\n",
      "Score:  0.8829710878205107\n"
     ]
    }
   ],
   "source": [
    "print(\"F1: \", f1_score(y_holdout_2, y_pred_hold_2) * 100)\n",
    "print(\"Accuracy: \", accuracy_score(y_holdout_2, y_pred_hold_2) * 100)\n",
    "\n",
    "score_recall_1 = recall_score(y_holdout_2, y_pred_hold_2, average = \"macro\" )\n",
    "score_auc_1 = roc_auc_score(y_holdout_2, y_pred_hold_2, multi_class='ovo')\n",
    "\n",
    "print(\"Recall: \", score_recall_1 * 100)\n",
    "print(\"ROC_AUC: \", score_auc_1 * 100)\n",
    "print(\"Score: \", 0.1 * score_recall_1 + 0.9 * score_auc_1)"
   ]
  },
  {
   "cell_type": "markdown",
   "id": "99539003-629f-4af0-8c00-9481e063ffd3",
   "metadata": {},
   "source": [
    "### Столбец значений для второго уровня обучения"
   ]
  },
  {
   "cell_type": "code",
   "execution_count": 49,
   "id": "1f826fa8-efda-4043-8457-bbf34d1a3077",
   "metadata": {},
   "outputs": [],
   "source": [
    "predictions_proba_2 = model_2.predict_proba(Pool(X_resampled_2))"
   ]
  },
  {
   "cell_type": "code",
   "execution_count": 50,
   "id": "6ae39579-7257-4e8c-8443-6d7b04204e4a",
   "metadata": {},
   "outputs": [],
   "source": [
    "pred_3 = []\n",
    "\n",
    "for i in range(0, len(predictions_proba_2)):\n",
    "    pred_3.append(predictions_proba_2[i][1])"
   ]
  },
  {
   "cell_type": "code",
   "execution_count": 59,
   "id": "54c01585-8d64-4cb2-bf2d-f7b37b35e19d",
   "metadata": {},
   "outputs": [],
   "source": [
    "stack_model_2 = pd.DataFrame({'label': pred_3})"
   ]
  },
  {
   "cell_type": "markdown",
   "id": "d9cef626-89c1-475a-9002-4e3bd8d99f8d",
   "metadata": {},
   "source": [
    "# Stacking Gradient Boosting / Обучение на Meta-Learner / Модель №3"
   ]
  },
  {
   "cell_type": "code",
   "execution_count": 62,
   "id": "35139b48-bcbe-45ac-b013-b109510419ed",
   "metadata": {},
   "outputs": [],
   "source": [
    "train_stack = pd.DataFrame({'X_1': stack_model_1['label'], 'X_2': stack_model_2['label']})\n",
    "train_stack['label'] = y_resampled_2['label']"
   ]
  },
  {
   "cell_type": "code",
   "execution_count": 63,
   "id": "ee19f7d0-5531-418a-aeac-35812c6010b0",
   "metadata": {},
   "outputs": [],
   "source": [
    "X_train_final, X_holdout_final, y_train_final, y_holdout_final = train_test_split(train_stack[['X_1', 'X_2']], train_stack['label'], test_size=0.2, random_state=17)"
   ]
  },
  {
   "cell_type": "code",
   "execution_count": 64,
   "id": "e0f070f0-5ede-483b-9fee-83c994ecc2b8",
   "metadata": {},
   "outputs": [
    {
     "data": {
      "text/html": [
       "<style>#sk-container-id-1 {color: black;background-color: white;}#sk-container-id-1 pre{padding: 0;}#sk-container-id-1 div.sk-toggleable {background-color: white;}#sk-container-id-1 label.sk-toggleable__label {cursor: pointer;display: block;width: 100%;margin-bottom: 0;padding: 0.3em;box-sizing: border-box;text-align: center;}#sk-container-id-1 label.sk-toggleable__label-arrow:before {content: \"▸\";float: left;margin-right: 0.25em;color: #696969;}#sk-container-id-1 label.sk-toggleable__label-arrow:hover:before {color: black;}#sk-container-id-1 div.sk-estimator:hover label.sk-toggleable__label-arrow:before {color: black;}#sk-container-id-1 div.sk-toggleable__content {max-height: 0;max-width: 0;overflow: hidden;text-align: left;background-color: #f0f8ff;}#sk-container-id-1 div.sk-toggleable__content pre {margin: 0.2em;color: black;border-radius: 0.25em;background-color: #f0f8ff;}#sk-container-id-1 input.sk-toggleable__control:checked~div.sk-toggleable__content {max-height: 200px;max-width: 100%;overflow: auto;}#sk-container-id-1 input.sk-toggleable__control:checked~label.sk-toggleable__label-arrow:before {content: \"▾\";}#sk-container-id-1 div.sk-estimator input.sk-toggleable__control:checked~label.sk-toggleable__label {background-color: #d4ebff;}#sk-container-id-1 div.sk-label input.sk-toggleable__control:checked~label.sk-toggleable__label {background-color: #d4ebff;}#sk-container-id-1 input.sk-hidden--visually {border: 0;clip: rect(1px 1px 1px 1px);clip: rect(1px, 1px, 1px, 1px);height: 1px;margin: -1px;overflow: hidden;padding: 0;position: absolute;width: 1px;}#sk-container-id-1 div.sk-estimator {font-family: monospace;background-color: #f0f8ff;border: 1px dotted black;border-radius: 0.25em;box-sizing: border-box;margin-bottom: 0.5em;}#sk-container-id-1 div.sk-estimator:hover {background-color: #d4ebff;}#sk-container-id-1 div.sk-parallel-item::after {content: \"\";width: 100%;border-bottom: 1px solid gray;flex-grow: 1;}#sk-container-id-1 div.sk-label:hover label.sk-toggleable__label {background-color: #d4ebff;}#sk-container-id-1 div.sk-serial::before {content: \"\";position: absolute;border-left: 1px solid gray;box-sizing: border-box;top: 0;bottom: 0;left: 50%;z-index: 0;}#sk-container-id-1 div.sk-serial {display: flex;flex-direction: column;align-items: center;background-color: white;padding-right: 0.2em;padding-left: 0.2em;position: relative;}#sk-container-id-1 div.sk-item {position: relative;z-index: 1;}#sk-container-id-1 div.sk-parallel {display: flex;align-items: stretch;justify-content: center;background-color: white;position: relative;}#sk-container-id-1 div.sk-item::before, #sk-container-id-1 div.sk-parallel-item::before {content: \"\";position: absolute;border-left: 1px solid gray;box-sizing: border-box;top: 0;bottom: 0;left: 50%;z-index: -1;}#sk-container-id-1 div.sk-parallel-item {display: flex;flex-direction: column;z-index: 1;position: relative;background-color: white;}#sk-container-id-1 div.sk-parallel-item:first-child::after {align-self: flex-end;width: 50%;}#sk-container-id-1 div.sk-parallel-item:last-child::after {align-self: flex-start;width: 50%;}#sk-container-id-1 div.sk-parallel-item:only-child::after {width: 0;}#sk-container-id-1 div.sk-dashed-wrapped {border: 1px dashed gray;margin: 0 0.4em 0.5em 0.4em;box-sizing: border-box;padding-bottom: 0.4em;background-color: white;}#sk-container-id-1 div.sk-label label {font-family: monospace;font-weight: bold;display: inline-block;line-height: 1.2em;}#sk-container-id-1 div.sk-label-container {text-align: center;}#sk-container-id-1 div.sk-container {/* jupyter's `normalize.less` sets `[hidden] { display: none; }` but bootstrap.min.css set `[hidden] { display: none !important; }` so we also need the `!important` here to be able to override the default hidden behavior on the sphinx rendered scikit-learn.org. See: https://github.com/scikit-learn/scikit-learn/issues/21755 */display: inline-block !important;position: relative;}#sk-container-id-1 div.sk-text-repr-fallback {display: none;}</style><div id=\"sk-container-id-1\" class=\"sk-top-container\"><div class=\"sk-text-repr-fallback\"><pre>LogisticRegression()</pre><b>In a Jupyter environment, please rerun this cell to show the HTML representation or trust the notebook. <br />On GitHub, the HTML representation is unable to render, please try loading this page with nbviewer.org.</b></div><div class=\"sk-container\" hidden><div class=\"sk-item\"><div class=\"sk-estimator sk-toggleable\"><input class=\"sk-toggleable__control sk-hidden--visually\" id=\"sk-estimator-id-1\" type=\"checkbox\" checked><label for=\"sk-estimator-id-1\" class=\"sk-toggleable__label sk-toggleable__label-arrow\">LogisticRegression</label><div class=\"sk-toggleable__content\"><pre>LogisticRegression()</pre></div></div></div></div></div>"
      ],
      "text/plain": [
       "LogisticRegression()"
      ]
     },
     "execution_count": 64,
     "metadata": {},
     "output_type": "execute_result"
    }
   ],
   "source": [
    "model_final = LogisticRegression()\n",
    "\n",
    "model_final.fit(X_train_final, y_train_final)"
   ]
  },
  {
   "cell_type": "markdown",
   "id": "6fe18846-a13f-450c-8a5d-3a5051cb4ae9",
   "metadata": {},
   "source": [
    "### Финальное предсказывание на Meta-Leaner"
   ]
  },
  {
   "cell_type": "code",
   "execution_count": 65,
   "id": "4324a29b-9e56-4571-850d-0486a987cabf",
   "metadata": {},
   "outputs": [],
   "source": [
    "test_stack = pd.DataFrame({'X_1': test_pred_model_2['label'], 'X_2': test_pred_model_1['label']})"
   ]
  },
  {
   "cell_type": "code",
   "execution_count": 66,
   "id": "59046dda-a366-4d55-89df-10a744ae85e8",
   "metadata": {},
   "outputs": [],
   "source": [
    "final_predictions = pd.DataFrame({'label': model_final.predict(test_stack)})\n",
    "final_predictions.index = id_test"
   ]
  },
  {
   "cell_type": "code",
   "execution_count": 67,
   "id": "489444cb-4e55-4b96-b9ee-89dd8ece3ded",
   "metadata": {},
   "outputs": [
    {
     "data": {
      "text/plain": [
       "label\n",
       "0        3518906\n",
       "1         481094\n",
       "dtype: int64"
      ]
     },
     "execution_count": 67,
     "metadata": {},
     "output_type": "execute_result"
    }
   ],
   "source": [
    "final_predictions.value_counts()"
   ]
  },
  {
   "cell_type": "code",
   "execution_count": 68,
   "id": "2abd4482-d00b-4916-b375-f279c59bb538",
   "metadata": {},
   "outputs": [],
   "source": [
    "final_predictions.to_csv(\"final_predictions.csv\", line_terminator='\\n')"
   ]
  }
 ],
 "metadata": {
  "kernelspec": {
   "display_name": "Python 3 (ipykernel)",
   "language": "python",
   "name": "python3"
  },
  "language_info": {
   "codemirror_mode": {
    "name": "ipython",
    "version": 3
   },
   "file_extension": ".py",
   "mimetype": "text/x-python",
   "name": "python",
   "nbconvert_exporter": "python",
   "pygments_lexer": "ipython3",
   "version": "3.9.12"
  }
 },
 "nbformat": 4,
 "nbformat_minor": 5
}
